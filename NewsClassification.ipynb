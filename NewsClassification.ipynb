{
 "cells": [
  {
   "cell_type": "code",
   "execution_count": 14,
   "metadata": {},
   "outputs": [],
   "source": [
    "import os\n",
    "import numpy as np\n",
    "import pandas as pd\n",
    "\n",
    "from sklearn.feature_extraction.text import TfidfVectorizer\n",
    "from sklearn.naive_bayes import MultinomialNB\n",
    "from sklearn.model_selection import train_test_split\n",
    "from sklearn.metrics import classification_report\n",
    "\n",
    "from keras.layers import SimpleRNN\n",
    "from keras.models import Sequential\n",
    "from keras.layers import Embedding, SimpleRNN"
   ]
  },
  {
   "cell_type": "code",
   "execution_count": 7,
   "metadata": {},
   "outputs": [
    {
     "name": "stdout",
     "output_type": "stream",
     "text": [
      "ERROR ABRIENDO EL FICHERO\n",
      "ERROR ABRIENDO EL FICHERO\n"
     ]
    }
   ],
   "source": [
    "path_, filename_, category_, article_or_summary_,content_ = [],[],[],[],[]\n",
    "for dirname, _, filenames in os.walk('data/'):\n",
    "    for filename in filenames:\n",
    "        path = os.path.join(dirname, filename).replace(\"\\\\\",\"/\")\n",
    "        f = open(os.path.join(dirname, filename),\"r\")\n",
    "        try:\n",
    "            content_.append(str(f.read()))\n",
    "            path_.append(path)\n",
    "            filename_.append(filename)\n",
    "            category_.append(path.split(\"/\")[-2])\n",
    "            article_or_summary_.append(path.split(\"/\")[-3])\n",
    "        except:\n",
    "            print(\"ERROR ABRIENDO EL FICHERO\")\n",
    "\n",
    "df = pd.DataFrame({\"path\":path_, \"filename\":filename_, \"category\":category_, \"article_or_summary\":article_or_summary_,\"content\":content_}, columns=[\"path\", \"filename\", \"category\", \"article_or_summary\",\"content\"])\n",
    "df\n",
    "\n",
    "df = df.loc[df['article_or_summary']=='Summaries']"
   ]
  },
  {
   "cell_type": "code",
   "execution_count": 8,
   "metadata": {},
   "outputs": [
    {
     "data": {
      "text/html": [
       "<div>\n",
       "<style scoped>\n",
       "    .dataframe tbody tr th:only-of-type {\n",
       "        vertical-align: middle;\n",
       "    }\n",
       "\n",
       "    .dataframe tbody tr th {\n",
       "        vertical-align: top;\n",
       "    }\n",
       "\n",
       "    .dataframe thead th {\n",
       "        text-align: right;\n",
       "    }\n",
       "</style>\n",
       "<table border=\"1\" class=\"dataframe\">\n",
       "  <thead>\n",
       "    <tr style=\"text-align: right;\">\n",
       "      <th></th>\n",
       "      <th>path</th>\n",
       "      <th>filename</th>\n",
       "      <th>category</th>\n",
       "      <th>article_or_summary</th>\n",
       "      <th>content</th>\n",
       "    </tr>\n",
       "  </thead>\n",
       "  <tbody>\n",
       "    <tr>\n",
       "      <th>2224</th>\n",
       "      <td>data/BBC News Summary/Summaries/business/001.txt</td>\n",
       "      <td>001.txt</td>\n",
       "      <td>business</td>\n",
       "      <td>Summaries</td>\n",
       "      <td>TimeWarner said fourth quarter sales rose 2% t...</td>\n",
       "    </tr>\n",
       "    <tr>\n",
       "      <th>2225</th>\n",
       "      <td>data/BBC News Summary/Summaries/business/002.txt</td>\n",
       "      <td>002.txt</td>\n",
       "      <td>business</td>\n",
       "      <td>Summaries</td>\n",
       "      <td>The dollar has hit its highest level against t...</td>\n",
       "    </tr>\n",
       "    <tr>\n",
       "      <th>2226</th>\n",
       "      <td>data/BBC News Summary/Summaries/business/003.txt</td>\n",
       "      <td>003.txt</td>\n",
       "      <td>business</td>\n",
       "      <td>Summaries</td>\n",
       "      <td>Yukos' owner Menatep Group says it will ask Ro...</td>\n",
       "    </tr>\n",
       "    <tr>\n",
       "      <th>2227</th>\n",
       "      <td>data/BBC News Summary/Summaries/business/004.txt</td>\n",
       "      <td>004.txt</td>\n",
       "      <td>business</td>\n",
       "      <td>Summaries</td>\n",
       "      <td>Rod Eddington, BA's chief executive, said the ...</td>\n",
       "    </tr>\n",
       "    <tr>\n",
       "      <th>2228</th>\n",
       "      <td>data/BBC News Summary/Summaries/business/005.txt</td>\n",
       "      <td>005.txt</td>\n",
       "      <td>business</td>\n",
       "      <td>Summaries</td>\n",
       "      <td>Pernod has reduced the debt it took on to fund...</td>\n",
       "    </tr>\n",
       "  </tbody>\n",
       "</table>\n",
       "</div>"
      ],
      "text/plain": [
       "                                                  path filename  category  \\\n",
       "2224  data/BBC News Summary/Summaries/business/001.txt  001.txt  business   \n",
       "2225  data/BBC News Summary/Summaries/business/002.txt  002.txt  business   \n",
       "2226  data/BBC News Summary/Summaries/business/003.txt  003.txt  business   \n",
       "2227  data/BBC News Summary/Summaries/business/004.txt  004.txt  business   \n",
       "2228  data/BBC News Summary/Summaries/business/005.txt  005.txt  business   \n",
       "\n",
       "     article_or_summary                                            content  \n",
       "2224          Summaries  TimeWarner said fourth quarter sales rose 2% t...  \n",
       "2225          Summaries  The dollar has hit its highest level against t...  \n",
       "2226          Summaries  Yukos' owner Menatep Group says it will ask Ro...  \n",
       "2227          Summaries  Rod Eddington, BA's chief executive, said the ...  \n",
       "2228          Summaries  Pernod has reduced the debt it took on to fund...  "
      ]
     },
     "execution_count": 8,
     "metadata": {},
     "output_type": "execute_result"
    }
   ],
   "source": [
    "df.head()"
   ]
  },
  {
   "cell_type": "code",
   "execution_count": 11,
   "metadata": {},
   "outputs": [],
   "source": [
    "df = df[['category','content']]"
   ]
  },
  {
   "cell_type": "code",
   "execution_count": 12,
   "metadata": {},
   "outputs": [
    {
     "data": {
      "text/html": [
       "<div>\n",
       "<style scoped>\n",
       "    .dataframe tbody tr th:only-of-type {\n",
       "        vertical-align: middle;\n",
       "    }\n",
       "\n",
       "    .dataframe tbody tr th {\n",
       "        vertical-align: top;\n",
       "    }\n",
       "\n",
       "    .dataframe thead th {\n",
       "        text-align: right;\n",
       "    }\n",
       "</style>\n",
       "<table border=\"1\" class=\"dataframe\">\n",
       "  <thead>\n",
       "    <tr style=\"text-align: right;\">\n",
       "      <th></th>\n",
       "      <th>category</th>\n",
       "      <th>content</th>\n",
       "    </tr>\n",
       "  </thead>\n",
       "  <tbody>\n",
       "    <tr>\n",
       "      <th>2224</th>\n",
       "      <td>business</td>\n",
       "      <td>TimeWarner said fourth quarter sales rose 2% t...</td>\n",
       "    </tr>\n",
       "    <tr>\n",
       "      <th>2225</th>\n",
       "      <td>business</td>\n",
       "      <td>The dollar has hit its highest level against t...</td>\n",
       "    </tr>\n",
       "    <tr>\n",
       "      <th>2226</th>\n",
       "      <td>business</td>\n",
       "      <td>Yukos' owner Menatep Group says it will ask Ro...</td>\n",
       "    </tr>\n",
       "    <tr>\n",
       "      <th>2227</th>\n",
       "      <td>business</td>\n",
       "      <td>Rod Eddington, BA's chief executive, said the ...</td>\n",
       "    </tr>\n",
       "    <tr>\n",
       "      <th>2228</th>\n",
       "      <td>business</td>\n",
       "      <td>Pernod has reduced the debt it took on to fund...</td>\n",
       "    </tr>\n",
       "  </tbody>\n",
       "</table>\n",
       "</div>"
      ],
      "text/plain": [
       "      category                                            content\n",
       "2224  business  TimeWarner said fourth quarter sales rose 2% t...\n",
       "2225  business  The dollar has hit its highest level against t...\n",
       "2226  business  Yukos' owner Menatep Group says it will ask Ro...\n",
       "2227  business  Rod Eddington, BA's chief executive, said the ...\n",
       "2228  business  Pernod has reduced the debt it took on to fund..."
      ]
     },
     "execution_count": 12,
     "metadata": {},
     "output_type": "execute_result"
    }
   ],
   "source": [
    "df.head()"
   ]
  },
  {
   "cell_type": "code",
   "execution_count": 15,
   "metadata": {},
   "outputs": [
    {
     "name": "stdout",
     "output_type": "stream",
     "text": [
      "               precision    recall  f1-score   support\n",
      "\n",
      "     business       0.99      0.98      0.98       222\n",
      "entertainment       0.99      0.89      0.94       152\n",
      "     politics       0.93      0.99      0.96       162\n",
      "        sport       0.98      0.99      0.98       197\n",
      "         tech       0.96      0.97      0.97       157\n",
      "\n",
      "     accuracy                           0.97       890\n",
      "    macro avg       0.97      0.97      0.97       890\n",
      " weighted avg       0.97      0.97      0.97       890\n",
      "\n"
     ]
    }
   ],
   "source": [
    "# Dividir el DataFrame en características (X) y etiquetas (y)\n",
    "X = df['content']\n",
    "y = df['category']\n",
    "\n",
    "# Crear un vectorizador TF-IDF\n",
    "vectorizer = TfidfVectorizer()\n",
    "\n",
    "# Transformar los textos en vectores TF-IDF\n",
    "X_vectorized = vectorizer.fit_transform(X)\n",
    "\n",
    "# Dividir los datos en conjuntos de entrenamiento y prueba\n",
    "X_train, X_test, y_train, y_test = train_test_split(X_vectorized, y, test_size=0.2, random_state=42)\n",
    "\n",
    "# Clasificador Naive Bayes\n",
    "classifier = MultinomialNB()\n",
    "classifier.fit(X_train, y_train)\n",
    "\n",
    "# Predecir las etiquetas de los datos de prueba\n",
    "y_pred = classifier.predict(X_test)\n",
    "\n",
    "# Evaluar el rendimiento del modelo\n",
    "print(classification_report(y_test, y_pred))"
   ]
  },
  {
   "cell_type": "code",
   "execution_count": null,
   "metadata": {},
   "outputs": [],
   "source": []
  }
 ],
 "metadata": {
  "kernelspec": {
   "display_name": "Python 3",
   "language": "python",
   "name": "python3"
  },
  "language_info": {
   "codemirror_mode": {
    "name": "ipython",
    "version": 3
   },
   "file_extension": ".py",
   "mimetype": "text/x-python",
   "name": "python",
   "nbconvert_exporter": "python",
   "pygments_lexer": "ipython3",
   "version": "3.11.4"
  }
 },
 "nbformat": 4,
 "nbformat_minor": 2
}
