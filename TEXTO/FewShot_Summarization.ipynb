{
 "cells": [
  {
   "cell_type": "code",
   "execution_count": 63,
   "metadata": {},
   "outputs": [
    {
     "name": "stderr",
     "output_type": "stream",
     "text": [
      "[nltk_data] Downloading package punkt to\n",
      "[nltk_data]     C:\\Users\\javie\\AppData\\Roaming\\nltk_data...\n",
      "[nltk_data]   Package punkt is already up-to-date!\n"
     ]
    }
   ],
   "source": [
    "from transformers import AutoModelForSeq2SeqLM\n",
    "from transformers import AutoTokenizer\n",
    "from transformers import GenerationConfig\n",
    "import os\n",
    "import pandas as pd\n",
    "from transformers import pipeline\n",
    "import torch\n",
    "import nltk\n",
    "nltk.download('punkt')\n",
    "from nltk.translate.bleu_score import corpus_bleu\n",
    "from nltk.translate.bleu_score import SmoothingFunction\n",
    "from nltk.tokenize import word_tokenize"
   ]
  },
  {
   "cell_type": "code",
   "execution_count": 34,
   "metadata": {},
   "outputs": [],
   "source": [
    "model_name='google/flan-t5-base'\n",
    "\n",
    "model = AutoModelForSeq2SeqLM.from_pretrained(model_name)"
   ]
  },
  {
   "cell_type": "code",
   "execution_count": 3,
   "metadata": {},
   "outputs": [],
   "source": [
    "tokenizer = AutoTokenizer.from_pretrained(model_name, use_fast=True)"
   ]
  },
  {
   "cell_type": "markdown",
   "metadata": {},
   "source": [
    "### Cargar el dataset"
   ]
  },
  {
   "cell_type": "code",
   "execution_count": 5,
   "metadata": {},
   "outputs": [],
   "source": [
    "path_, filename_, category_, article_or_summary_,content_ = [],[],[],[],[]\n",
    "for dirname, _, filenames in os.walk('data/'):\n",
    "    for filename in filenames:\n",
    "        path = os.path.join(dirname, filename).replace(\"\\\\\",\"/\")\n",
    "        f = open(os.path.join(dirname, filename),\"r\")\n",
    "        try:\n",
    "            content_.append(str(f.read()))\n",
    "            path_.append(path)\n",
    "            filename_.append(filename)\n",
    "            category_.append(path.split(\"/\")[-2])\n",
    "            article_or_summary_.append(path.split(\"/\")[-3])\n",
    "        except:\n",
    "            print(\"ERROR ABRIENDO EL FICHERO\")"
   ]
  },
  {
   "cell_type": "code",
   "execution_count": 42,
   "metadata": {},
   "outputs": [],
   "source": [
    "df1 = pd.DataFrame({\"path\":path_, \"filename\":filename_, \"category\":category_, \"article_or_summary\":article_or_summary_,\"content\":content_}, columns=[\"path\", \"filename\", \"category\", \"article_or_summary\",\"content\"])\n",
    "df_news = df1.loc[df1['article_or_summary']=='News Articles']\n",
    "df_summaries = df1.loc[df1['article_or_summary']=='Summaries']\n",
    "df_summaries = df_summaries.reset_index(drop=True)"
   ]
  },
  {
   "cell_type": "markdown",
   "metadata": {},
   "source": [
    "### Probando el encoder"
   ]
  },
  {
   "cell_type": "code",
   "execution_count": 23,
   "metadata": {},
   "outputs": [
    {
     "data": {
      "text/html": [
       "<div>\n",
       "<style scoped>\n",
       "    .dataframe tbody tr th:only-of-type {\n",
       "        vertical-align: middle;\n",
       "    }\n",
       "\n",
       "    .dataframe tbody tr th {\n",
       "        vertical-align: top;\n",
       "    }\n",
       "\n",
       "    .dataframe thead th {\n",
       "        text-align: right;\n",
       "    }\n",
       "</style>\n",
       "<table border=\"1\" class=\"dataframe\">\n",
       "  <thead>\n",
       "    <tr style=\"text-align: right;\">\n",
       "      <th></th>\n",
       "      <th>path</th>\n",
       "      <th>filename</th>\n",
       "      <th>category</th>\n",
       "      <th>article_or_summary</th>\n",
       "      <th>content</th>\n",
       "    </tr>\n",
       "  </thead>\n",
       "  <tbody>\n",
       "    <tr>\n",
       "      <th>1</th>\n",
       "      <td>data/News Articles/business/002.txt</td>\n",
       "      <td>002.txt</td>\n",
       "      <td>business</td>\n",
       "      <td>News Articles</td>\n",
       "      <td>Dollar gains on Greenspan speech\\n\\nThe dollar...</td>\n",
       "    </tr>\n",
       "  </tbody>\n",
       "</table>\n",
       "</div>"
      ],
      "text/plain": [
       "                                  path filename  category article_or_summary  \\\n",
       "1  data/News Articles/business/002.txt  002.txt  business      News Articles   \n",
       "\n",
       "                                             content  \n",
       "1  Dollar gains on Greenspan speech\\n\\nThe dollar...  "
      ]
     },
     "execution_count": 23,
     "metadata": {},
     "output_type": "execute_result"
    }
   ],
   "source": [
    "indice_especifico = [1]\n",
    "valor = df_news.loc[indice_especifico]\n",
    "valor\n"
   ]
  },
  {
   "cell_type": "code",
   "execution_count": 24,
   "metadata": {},
   "outputs": [
    {
     "data": {
      "text/plain": [
       "'Dollar gains on Greenspan speech\\n\\nThe dollar has hit its highest level against the euro in almost three months after the Federal Reserve head said the US trade deficit is set to stabilise.\\n\\nAnd Alan Greenspan highlighted the US government\\'s willingness to curb spending and rising household savings as factors which may help to reduce it. In late trading in New York, the dollar reached $1.2871 against the euro, from $1.2974 on Thursday. Market concerns about the deficit has hit the greenback in recent months. On Friday, Federal Reserve chairman Mr Greenspan\\'s speech in London ahead of the meeting of G7 finance ministers sent the dollar higher after it had earlier tumbled on the back of worse-than-expected US jobs data. \"I think the chairman\\'s taking a much more sanguine view on the current account deficit than he\\'s taken for some time,\" said Robert Sinche, head of currency strategy at Bank of America in New York. \"He\\'s taking a longer-term view, laying out a set of conditions under which the current account deficit can improve this year and next.\"\\n\\nWorries about the deficit concerns about China do, however, remain. China\\'s currency remains pegged to the dollar and the US currency\\'s sharp falls in recent months have therefore made Chinese export prices highly competitive. But calls for a shift in Beijing\\'s policy have fallen on deaf ears, despite recent comments in a major Chinese newspaper that the \"time is ripe\" for a loosening of the peg. The G7 meeting is thought unlikely to produce any meaningful movement in Chinese policy. In the meantime, the US Federal Reserve\\'s decision on 2 February to boost interest rates by a quarter of a point - the sixth such move in as many months - has opened up a differential with European rates. The half-point window, some believe, could be enough to keep US assets looking more attractive, and could help prop up the dollar. The recent falls have partly been the result of big budget deficits, as well as the US\\'s yawning current account gap, both of which need to be funded by the buying of US bonds and assets by foreign firms and governments. The White House will announce its budget on Monday, and many commentators believe the deficit will remain at close to half a trillion dollars.\\n'"
      ]
     },
     "execution_count": 24,
     "metadata": {},
     "output_type": "execute_result"
    }
   ],
   "source": [
    "sentence = valor['content'].astype(str).iloc[0]\n",
    "sentence\n"
   ]
  },
  {
   "cell_type": "markdown",
   "metadata": {},
   "source": [
    "+ Esto nos va a servir para ver si luego el contexto que le pasamos cabe en el prompting"
   ]
  },
  {
   "cell_type": "code",
   "execution_count": 25,
   "metadata": {},
   "outputs": [
    {
     "name": "stdout",
     "output_type": "stream",
     "text": [
      "ENCODED SENTENCE:\n",
      "tensor([14110, 11391,    30,  1862,     7,  2837,  5023,    37,  6816,    65,\n",
      "         1560,   165,  2030,   593,   581,     8,  3983,    16,   966,   386,\n",
      "          767,   227,     8,  5034,  9473,   819,   243,     8,   837,  1668,\n",
      "        11724,    19,   356,    12, 20426,     7,    15,     5,   275, 12453,\n",
      "         1862,     7,  2837, 12566,     8,   837,   789,    31,     7, 20463,\n",
      "           12, 16110,  2887,    11,  6937,  5699,  5051,    38,  2580,    84,\n",
      "          164,   199,    12,  1428,    34,     5,    86,  1480,  3415,    16,\n",
      "          368,  1060,     6,     8,  6816,  3495,  1970,     5,  2577,  4450,\n",
      "          581,     8,  3983,     6,    45,  1970,     5,  3166,  4581,    30,\n",
      "         2721,     5,  3611,  3315,    81,     8, 11724,    65,  1560,     8,\n",
      "         1442,  1549,    16,  1100,   767,     5,   461,  1701,     6,  5034,\n",
      "         9473, 13404,  1363,  1862,     7,  2837,    31,     7,  5023,    16,\n",
      "         1524,  2177,    13,     8,  1338,    13,   350,   940,  4747,  6323,\n",
      "            7,  1622,     8,  6816,  1146,   227,    34,   141,  2283, 26565,\n",
      "           26,    30,     8,   223,    13,  4131,    18,  6736,    18, 31643,\n",
      "          837,  2476,   331,     5,    96,   196,   317,     8, 13404,    31,\n",
      "            7,   838,     3,     9,   231,    72, 27744,    15,   903,    30,\n",
      "            8,   750,   905, 11724,   145,     3,    88,    31,     7,  1026,\n",
      "           21,   128,    97,   976,   243,  2715,  8271,  1033,     6,   819,\n",
      "           13,  7481,  1998,    44,  1925,    13,  1371,    16,   368,  1060,\n",
      "            5,    96,  3845,    31,     7,   838,     3,     9,  1200,    18,\n",
      "         1987,   903,     6,     3, 14720,    91,     3,     9,   356,    13,\n",
      "         1124,   365,    84,     8,   750,   905, 11724,    54,  1172,    48,\n",
      "          215,    11,   416,   535, 11287,  2593,    81,     8, 11724,  3315,\n",
      "           81,  1473,   103,     6,   983,     6,  2367,     5,  1473,    31,\n",
      "            7,  7481,  3048,   158, 11918,    12,     8,  6816,    11,     8,\n",
      "          837,  7481,    31,     7,  4816,  7250,    16,  1100,   767,    43,\n",
      "         2459,   263,  2830,  4202,  1596,  1385,  3265,     5,   299,  3088,\n",
      "           21,     3,     9,  4108,    16, 14465,    31,     7,  1291,    43,\n",
      "         9717,    30,    20,     9,    89, 11581,     6,     3,  3565,  1100,\n",
      "         2622,    16,     3,     9,   779,  2830,  8468,    24,     8,    96,\n",
      "          715,    19,     3,  5082,    15,   121,    21,     3,     9,  6044,\n",
      "           29,    53,    13,     8,   158,   122,     5,    37,   350,   940,\n",
      "         1338,    19,   816,  9909,    12,  1759,   136,  7892,  2426,    16,\n",
      "         2830,  1291,     5,    86,     8, 16350,     6,     8,   837,  5034,\n",
      "         9473,    31,     7,  1357,    30,   204,  2083,    12,  4888,  1046,\n",
      "         1917,    57,     3,     9,  2893,    13,     3,     9,   500,     3,\n",
      "           18,     8, 13305,   224,   888,    16,    38,   186,   767,     3,\n",
      "           18,    65,  2946,    95,     3,     9, 21701,    28,  1611,  1917,\n",
      "            5,    37,   985,    18,  2700,  2034,     6,   128,   857,     6,\n",
      "          228,    36,   631,    12,   453,   837,  4089,   479,    72,  5250,\n",
      "            6,    11,   228,   199,  6377,    95,     8,  6816,     5,    37,\n",
      "         1100,  7250,    43, 16509,   118,     8,   741,    13,   600,  1487,\n",
      "        11724,     7,     6,    38,   168,    38,     8,   837,    31,     7,\n",
      "            3,    63, 29781,   750,   905,  6813,     6,   321,    13,    84,\n",
      "          174,    12,    36, 11264,    57,     8,  2611,    13,   837, 13237,\n",
      "           11,  4089,    57,  2959,  5654,    11, 10524,     5,    37,  1945,\n",
      "         1384,    56,  6456,   165,  1487,    30,  2089,     6,    11,   186,\n",
      "         1670,  6230,   857,     8, 11724,    56,  2367,    44,   885,    12,\n",
      "          985,     3,     9, 20179,  3740,     5,     3,     1])\n",
      "\n",
      "DECODED SENTENCE:\n",
      "Dollar gains on Greenspan speech The dollar has hit its highest level against the euro in almost three months after the Federal Reserve head said the US trade deficit is set to stabilise. And Alan Greenspan highlighted the US government's willingness to curb spending and rising household savings as factors which may help to reduce it. In late trading in New York, the dollar reached $1.2871 against the euro, from $1.2974 on Thursday. Market concerns about the deficit has hit the greenback in recent months. On Friday, Federal Reserve chairman Mr Greenspan's speech in London ahead of the meeting of G7 finance ministers sent the dollar higher after it had earlier tumbled on the back of worse-than-expected US jobs data. \"I think the chairman's taking a much more sanguine view on the current account deficit than he's taken for some time,\" said Robert Sinche, head of currency strategy at Bank of America in New York. \"He's taking a longer-term view, laying out a set of conditions under which the current account deficit can improve this year and next.\" Worries about the deficit concerns about China do, however, remain. China's currency remains pegged to the dollar and the US currency's sharp falls in recent months have therefore made Chinese export prices highly competitive. But calls for a shift in Beijing's policy have fallen on deaf ears, despite recent comments in a major Chinese newspaper that the \"time is ripe\" for a loosening of the peg. The G7 meeting is thought unlikely to produce any meaningful movement in Chinese policy. In the meantime, the US Federal Reserve's decision on 2 February to boost interest rates by a quarter of a point - the sixth such move in as many months - has opened up a differential with European rates. The half-point window, some believe, could be enough to keep US assets looking more attractive, and could help prop up the dollar. The recent falls have partly been the result of big budget deficits, as well as the US's yawning current account gap, both of which need to be funded by the buying of US bonds and assets by foreign firms and governments. The White House will announce its budget on Monday, and many commentators believe the deficit will remain at close to half a trillion dollars. \n",
      "\n",
      "TAMAÑO DE LA CODIFICACIÓN:\n",
      "498\n"
     ]
    }
   ],
   "source": [
    "\n",
    "sentence_encoded = tokenizer(sentence, return_tensors='pt')\n",
    "\n",
    "sentence_decoded = tokenizer.decode(\n",
    "        sentence_encoded[\"input_ids\"][0], \n",
    "        skip_special_tokens=True\n",
    "    )\n",
    "\n",
    "print('ENCODED SENTENCE:')\n",
    "print(sentence_encoded[\"input_ids\"][0])\n",
    "print('\\nDECODED SENTENCE:')\n",
    "print(sentence_decoded)\n",
    "print('\\nTAMAÑO DE LA CODIFICACIÓN:')\n",
    "print(len(sentence_encoded[\"input_ids\"][0]))"
   ]
  },
  {
   "cell_type": "markdown",
   "metadata": {},
   "source": [
    "Modelo para hacer los resúmenes"
   ]
  },
  {
   "cell_type": "code",
   "execution_count": 26,
   "metadata": {},
   "outputs": [],
   "source": [
    "#primero sin few shot, únicamente pasando el texto"
   ]
  },
  {
   "cell_type": "code",
   "execution_count": 47,
   "metadata": {},
   "outputs": [
    {
     "name": "stdout",
     "output_type": "stream",
     "text": [
      "------------------------------------------------------------------------------------------------------\n",
      "Example  1\n",
      "------------------------------------------------------------------------------------------------------\n",
      "INPUT PROMPT:\n",
      "High fuel prices hit BA's profits\n",
      "\n",
      "British Airways has blamed high fuel prices for a 40% drop in profits.\n",
      "\n",
      "Reporting its results for the three months to 31 December 2004, the airline made a pre-tax profit of £75m ($141m) compared with £125m a year earlier. Rod Eddington, BA's chief executive, said the results were \"respectable\" in a third quarter when fuel costs rose by £106m or 47.3%. BA's profits were still better than market expectation of £59m, and it expects a rise in full-year revenues.\n",
      "\n",
      "To help offset the increased price of aviation fuel, BA last year introduced a fuel surcharge for passengers.\n",
      "\n",
      "In October, it increased this from £6 to £10 one-way for all long-haul flights, while the short-haul surcharge was raised from £2.50 to £4 a leg. Yet aviation analyst Mike Powell of Dresdner Kleinwort Wasserstein says BA's estimated annual surcharge revenues - £160m - will still be way short of its additional fuel costs - a predicted extra £250m. Turnover for the quarter was up 4.3% to £1.97bn, further benefiting from a rise in cargo revenue. Looking ahead to its full year results to March 2005, BA warned that yields - average revenues per passenger - were expected to decline as it continues to lower prices in the face of competition from low-cost carriers. However, it said sales would be better than previously forecast. \"For the year to March 2005, the total revenue outlook is slightly better than previous guidance with a 3% to 3.5% improvement anticipated,\" BA chairman Martin Broughton said. BA had previously forecast a 2% to 3% rise in full-year revenue.\n",
      "\n",
      "It also reported on Friday that passenger numbers rose 8.1% in January. Aviation analyst Nick Van den Brul of BNP Paribas described BA's latest quarterly results as \"pretty modest\". \"It is quite good on the revenue side and it shows the impact of fuel surcharges and a positive cargo development, however, operating margins down and cost impact of fuel are very strong,\" he said. Since the 11 September 2001 attacks in the United States, BA has cut 13,000 jobs as part of a major cost-cutting drive. \"Our focus remains on reducing controllable costs and debt whilst continuing to invest in our products,\" Mr Eddington said. \"For example, we have taken delivery of six Airbus A321 aircraft and next month we will start further improvements to our Club World flat beds.\" BA's shares closed up four pence at 274.5 pence.\n",
      "\n",
      "------------------------------------------------------------------------------------------------------\n",
      "BASELINE HUMAN SUMMARY:\n",
      "Rod Eddington, BA's chief executive, said the results were \"respectable\" in a third quarter when fuel costs rose by £106m or 47.3%.To help offset the increased price of aviation fuel, BA last year introduced a fuel surcharge for passengers.BA had previously forecast a 2% to 3% rise in full-year revenue.\"It is quite good on the revenue side and it shows the impact of fuel surcharges and a positive cargo development, however, operating margins down and cost impact of fuel are very strong,\" he said.Yet aviation analyst Mike Powell of Dresdner Kleinwort Wasserstein says BA's estimated annual surcharge revenues - £160m - will still be way short of its additional fuel costs - a predicted extra £250m.\"For the year to March 2005, the total revenue outlook is slightly better than previous guidance with a 3% to 3.5% improvement anticipated,\" BA chairman Martin Broughton said.Looking ahead to its full year results to March 2005, BA warned that yields - average revenues per passenger - were expected to decline as it continues to lower prices in the face of competition from low-cost carriers.BA's profits were still better than market expectation of £59m, and it expects a rise in full-year revenues.\n",
      "------------------------------------------------------------------------------------------------------\n",
      "MODEL GENERATION - WITHOUT PROMPT ENGINEERING:\n",
      "BA has reported a 40% drop in profits after fuel costs rose by £160m.\n",
      "\n",
      "------------------------------------------------------------------------------------------------------\n",
      "Example  2\n",
      "------------------------------------------------------------------------------------------------------\n",
      "INPUT PROMPT:\n",
      "Japan narrowly escapes recession\n",
      "\n",
      "Japan's economy teetered on the brink of a technical recession in the three months to September, figures show.\n",
      "\n",
      "Revised figures indicated growth of just 0.1% - and a similar-sized contraction in the previous quarter. On an annual basis, the data suggests annual growth of just 0.2%, suggesting a much more hesitant recovery than had previously been thought. A common technical definition of a recession is two successive quarters of negative growth.\n",
      "\n",
      "The government was keen to play down the worrying implications of the data. \"I maintain the view that Japan's economy remains in a minor adjustment phase in an upward climb, and we will monitor developments carefully,\" said economy minister Heizo Takenaka. But in the face of the strengthening yen making exports less competitive and indications of weakening economic conditions ahead, observers were less sanguine. \"It's painting a picture of a recovery... much patchier than previously thought,\" said Paul Sheard, economist at Lehman Brothers in Tokyo. Improvements in the job market apparently have yet to feed through to domestic demand, with private consumption up just 0.2% in the third quarter.\n",
      "\n",
      "------------------------------------------------------------------------------------------------------\n",
      "BASELINE HUMAN SUMMARY:\n",
      "On an annual basis, the data suggests annual growth of just 0.2%, suggesting a much more hesitant recovery than had previously been thought.A common technical definition of a recession is two successive quarters of negative growth.Revised figures indicated growth of just 0.1% - and a similar-sized contraction in the previous quarter.Japan's economy teetered on the brink of a technical recession in the three months to September, figures show.\n",
      "------------------------------------------------------------------------------------------------------\n",
      "MODEL GENERATION - WITHOUT PROMPT ENGINEERING:\n",
      "Japan's economy teetered on the brink of a technical recession in the three months to September, figures show.\n",
      "\n",
      "------------------------------------------------------------------------------------------------------\n",
      "Example  3\n",
      "------------------------------------------------------------------------------------------------------\n",
      "INPUT PROMPT:\n",
      "Ethiopia's crop production up 24%\n",
      "\n",
      "Ethiopia produced 14.27 million tonnes of crops in 2004, 24% higher than in 2003 and 21% more than the average of the past five years, a report says.\n",
      "\n",
      "In 2003, crop production totalled 11.49 million tonnes, the joint report from the Food and Agriculture Organisation and the World Food Programme said. Good rains, increased use of fertilizers and improved seeds contributed to the rise in production. Nevertheless, 2.2 million Ethiopians will still need emergency assistance.\n",
      "\n",
      "The report calculated emergency food requirements for 2005 to be 387,500 tonnes. On top of that, 89,000 tonnes of fortified blended food and vegetable oil for \"targeted supplementary food distributions for a survival programme for children under five and pregnant and lactating women\" will be needed.\n",
      "\n",
      "In eastern and southern Ethiopia, a prolonged drought has killed crops and drained wells. Last year, a total of 965,000 tonnes of food assistance was needed to help seven million Ethiopians. The Food and Agriculture Organisation (FAO) recommend that the food assistance is bought locally. \"Local purchase of cereals for food assistance programmes is recommended as far as possible, so as to assist domestic markets and farmers,\" said Henri Josserand, chief of FAO's Global Information and Early Warning System. Agriculture is the main economic activity in Ethiopia, representing 45% of gross domestic product. About 80% of Ethiopians depend directly or indirectly on agriculture.\n",
      "\n",
      "------------------------------------------------------------------------------------------------------\n",
      "BASELINE HUMAN SUMMARY:\n",
      "In 2003, crop production totalled 11.49 million tonnes, the joint report from the Food and Agriculture Organisation and the World Food Programme said.The Food and Agriculture Organisation (FAO) recommend that the food assistance is bought locally.Last year, a total of 965,000 tonnes of food assistance was needed to help seven million Ethiopians.The report calculated emergency food requirements for 2005 to be 387,500 tonnes.On top of that, 89,000 tonnes of fortified blended food and vegetable oil for \"targeted supplementary food distributions for a survival programme for children under five and pregnant and lactating women\" will be needed.\n",
      "------------------------------------------------------------------------------------------------------\n",
      "MODEL GENERATION - WITHOUT PROMPT ENGINEERING:\n",
      "Ethiopia's crop production in 2004 was 24% higher than in 2003, a report says.\n",
      "\n"
     ]
    }
   ],
   "source": [
    "dash_line = \"------------------------------------------------------------------------------------------------------\"\n",
    "indices=[3,5,8]\n",
    "for i, index in enumerate(indices):\n",
    "    dialogue = df_news.loc[index]['content']\n",
    "    summary = df_summaries.loc[index]['content']\n",
    "    \n",
    "    inputs = tokenizer(dialogue, return_tensors='pt')\n",
    "    output = tokenizer.decode(\n",
    "        model.generate(\n",
    "            inputs[\"input_ids\"], \n",
    "            max_new_tokens=50,\n",
    "        )[0], \n",
    "        skip_special_tokens=True\n",
    "    )\n",
    "    \n",
    "    print(dash_line)\n",
    "    print('Example ', i + 1)\n",
    "    print(dash_line)\n",
    "    print(f'INPUT PROMPT:\\n{dialogue}')\n",
    "    print(dash_line)\n",
    "    print(f'BASELINE HUMAN SUMMARY:\\n{summary}')\n",
    "    print(dash_line)\n",
    "    print(f'MODEL GENERATION - WITHOUT PROMPT ENGINEERING:\\n{output}\\n')"
   ]
  },
  {
   "cell_type": "code",
   "execution_count": 48,
   "metadata": {},
   "outputs": [
    {
     "name": "stdout",
     "output_type": "stream",
     "text": [
      "------------------------------------------------------------------------------------------------------\n",
      "Example  1\n",
      "------------------------------------------------------------------------------------------------------\n",
      "INPUT PROMPT:\n",
      "\n",
      "You are an exper in news summarization. Summarize the following text.\n",
      "\n",
      "High fuel prices hit BA's profits\n",
      "\n",
      "British Airways has blamed high fuel prices for a 40% drop in profits.\n",
      "\n",
      "Reporting its results for the three months to 31 December 2004, the airline made a pre-tax profit of £75m ($141m) compared with £125m a year earlier. Rod Eddington, BA's chief executive, said the results were \"respectable\" in a third quarter when fuel costs rose by £106m or 47.3%. BA's profits were still better than market expectation of £59m, and it expects a rise in full-year revenues.\n",
      "\n",
      "To help offset the increased price of aviation fuel, BA last year introduced a fuel surcharge for passengers.\n",
      "\n",
      "In October, it increased this from £6 to £10 one-way for all long-haul flights, while the short-haul surcharge was raised from £2.50 to £4 a leg. Yet aviation analyst Mike Powell of Dresdner Kleinwort Wasserstein says BA's estimated annual surcharge revenues - £160m - will still be way short of its additional fuel costs - a predicted extra £250m. Turnover for the quarter was up 4.3% to £1.97bn, further benefiting from a rise in cargo revenue. Looking ahead to its full year results to March 2005, BA warned that yields - average revenues per passenger - were expected to decline as it continues to lower prices in the face of competition from low-cost carriers. However, it said sales would be better than previously forecast. \"For the year to March 2005, the total revenue outlook is slightly better than previous guidance with a 3% to 3.5% improvement anticipated,\" BA chairman Martin Broughton said. BA had previously forecast a 2% to 3% rise in full-year revenue.\n",
      "\n",
      "It also reported on Friday that passenger numbers rose 8.1% in January. Aviation analyst Nick Van den Brul of BNP Paribas described BA's latest quarterly results as \"pretty modest\". \"It is quite good on the revenue side and it shows the impact of fuel surcharges and a positive cargo development, however, operating margins down and cost impact of fuel are very strong,\" he said. Since the 11 September 2001 attacks in the United States, BA has cut 13,000 jobs as part of a major cost-cutting drive. \"Our focus remains on reducing controllable costs and debt whilst continuing to invest in our products,\" Mr Eddington said. \"For example, we have taken delivery of six Airbus A321 aircraft and next month we will start further improvements to our Club World flat beds.\" BA's shares closed up four pence at 274.5 pence.\n",
      "\n",
      "\n",
      "Summary:\n",
      "    \n",
      "------------------------------------------------------------------------------------------------------\n",
      "BASELINE HUMAN SUMMARY:\n",
      "Rod Eddington, BA's chief executive, said the results were \"respectable\" in a third quarter when fuel costs rose by £106m or 47.3%.To help offset the increased price of aviation fuel, BA last year introduced a fuel surcharge for passengers.BA had previously forecast a 2% to 3% rise in full-year revenue.\"It is quite good on the revenue side and it shows the impact of fuel surcharges and a positive cargo development, however, operating margins down and cost impact of fuel are very strong,\" he said.Yet aviation analyst Mike Powell of Dresdner Kleinwort Wasserstein says BA's estimated annual surcharge revenues - £160m - will still be way short of its additional fuel costs - a predicted extra £250m.\"For the year to March 2005, the total revenue outlook is slightly better than previous guidance with a 3% to 3.5% improvement anticipated,\" BA chairman Martin Broughton said.Looking ahead to its full year results to March 2005, BA warned that yields - average revenues per passenger - were expected to decline as it continues to lower prices in the face of competition from low-cost carriers.BA's profits were still better than market expectation of £59m, and it expects a rise in full-year revenues.\n",
      "------------------------------------------------------------------------------------------------------\n",
      "MODEL GENERATION - ZERO SHOT:\n",
      "BA has reported a 40% drop in profits after fuel costs soared by more than £50m.\n",
      "\n",
      "------------------------------------------------------------------------------------------------------\n",
      "Example  2\n",
      "------------------------------------------------------------------------------------------------------\n",
      "INPUT PROMPT:\n",
      "\n",
      "You are an exper in news summarization. Summarize the following text.\n",
      "\n",
      "Japan narrowly escapes recession\n",
      "\n",
      "Japan's economy teetered on the brink of a technical recession in the three months to September, figures show.\n",
      "\n",
      "Revised figures indicated growth of just 0.1% - and a similar-sized contraction in the previous quarter. On an annual basis, the data suggests annual growth of just 0.2%, suggesting a much more hesitant recovery than had previously been thought. A common technical definition of a recession is two successive quarters of negative growth.\n",
      "\n",
      "The government was keen to play down the worrying implications of the data. \"I maintain the view that Japan's economy remains in a minor adjustment phase in an upward climb, and we will monitor developments carefully,\" said economy minister Heizo Takenaka. But in the face of the strengthening yen making exports less competitive and indications of weakening economic conditions ahead, observers were less sanguine. \"It's painting a picture of a recovery... much patchier than previously thought,\" said Paul Sheard, economist at Lehman Brothers in Tokyo. Improvements in the job market apparently have yet to feed through to domestic demand, with private consumption up just 0.2% in the third quarter.\n",
      "\n",
      "\n",
      "Summary:\n",
      "    \n",
      "------------------------------------------------------------------------------------------------------\n",
      "BASELINE HUMAN SUMMARY:\n",
      "On an annual basis, the data suggests annual growth of just 0.2%, suggesting a much more hesitant recovery than had previously been thought.A common technical definition of a recession is two successive quarters of negative growth.Revised figures indicated growth of just 0.1% - and a similar-sized contraction in the previous quarter.Japan's economy teetered on the brink of a technical recession in the three months to September, figures show.\n",
      "------------------------------------------------------------------------------------------------------\n",
      "MODEL GENERATION - ZERO SHOT:\n",
      "Japan's economy teetered on the brink of a recession in the three months to September, according to official figures.\n",
      "\n",
      "------------------------------------------------------------------------------------------------------\n",
      "Example  3\n",
      "------------------------------------------------------------------------------------------------------\n",
      "INPUT PROMPT:\n",
      "\n",
      "You are an exper in news summarization. Summarize the following text.\n",
      "\n",
      "Ethiopia's crop production up 24%\n",
      "\n",
      "Ethiopia produced 14.27 million tonnes of crops in 2004, 24% higher than in 2003 and 21% more than the average of the past five years, a report says.\n",
      "\n",
      "In 2003, crop production totalled 11.49 million tonnes, the joint report from the Food and Agriculture Organisation and the World Food Programme said. Good rains, increased use of fertilizers and improved seeds contributed to the rise in production. Nevertheless, 2.2 million Ethiopians will still need emergency assistance.\n",
      "\n",
      "The report calculated emergency food requirements for 2005 to be 387,500 tonnes. On top of that, 89,000 tonnes of fortified blended food and vegetable oil for \"targeted supplementary food distributions for a survival programme for children under five and pregnant and lactating women\" will be needed.\n",
      "\n",
      "In eastern and southern Ethiopia, a prolonged drought has killed crops and drained wells. Last year, a total of 965,000 tonnes of food assistance was needed to help seven million Ethiopians. The Food and Agriculture Organisation (FAO) recommend that the food assistance is bought locally. \"Local purchase of cereals for food assistance programmes is recommended as far as possible, so as to assist domestic markets and farmers,\" said Henri Josserand, chief of FAO's Global Information and Early Warning System. Agriculture is the main economic activity in Ethiopia, representing 45% of gross domestic product. About 80% of Ethiopians depend directly or indirectly on agriculture.\n",
      "\n",
      "\n",
      "Summary:\n",
      "    \n",
      "------------------------------------------------------------------------------------------------------\n",
      "BASELINE HUMAN SUMMARY:\n",
      "In 2003, crop production totalled 11.49 million tonnes, the joint report from the Food and Agriculture Organisation and the World Food Programme said.The Food and Agriculture Organisation (FAO) recommend that the food assistance is bought locally.Last year, a total of 965,000 tonnes of food assistance was needed to help seven million Ethiopians.The report calculated emergency food requirements for 2005 to be 387,500 tonnes.On top of that, 89,000 tonnes of fortified blended food and vegetable oil for \"targeted supplementary food distributions for a survival programme for children under five and pregnant and lactating women\" will be needed.\n",
      "------------------------------------------------------------------------------------------------------\n",
      "MODEL GENERATION - ZERO SHOT:\n",
      "Ethiopia's crop production has risen by 24% in the past five years, a report says.\n",
      "\n"
     ]
    }
   ],
   "source": [
    "#Ahora vamos a hacer únicamente prompting\n",
    "for i, index in enumerate(indices):\n",
    "    dialogue = df_news.loc[index]['content']\n",
    "    summary = df_summaries.loc[index]['content']\n",
    "\n",
    "    prompt = f\"\"\"\n",
    "You are an exper in news summarization. Summarize the following text.\n",
    "\n",
    "{dialogue}\n",
    "\n",
    "Summary:\n",
    "    \"\"\"\n",
    "\n",
    "    # Input constructed prompt instead of the dialogue.\n",
    "    inputs = tokenizer(prompt, return_tensors='pt')\n",
    "    output = tokenizer.decode(\n",
    "        model.generate(\n",
    "            inputs[\"input_ids\"], \n",
    "            max_new_tokens=50,\n",
    "        )[0], \n",
    "        skip_special_tokens=True\n",
    "    )\n",
    "    \n",
    "    print(dash_line)\n",
    "    print('Example ', i + 1)\n",
    "    print(dash_line)\n",
    "    print(f'INPUT PROMPT:\\n{prompt}')\n",
    "    print(dash_line)\n",
    "    print(f'BASELINE HUMAN SUMMARY:\\n{summary}')\n",
    "    print(dash_line)    \n",
    "    print(f'MODEL GENERATION - ZERO SHOT:\\n{output}\\n')"
   ]
  },
  {
   "cell_type": "code",
   "execution_count": 67,
   "metadata": {},
   "outputs": [],
   "source": [
    "#Ahora vamos a hacer un few shot\n",
    "#Función para hacer el prompting\n",
    "def make_prompt(example_indices_full, example_index_to_summarize):\n",
    "    prompt = ''\n",
    "    for index in example_indices_full:\n",
    "        dialogue = df_news.loc[index]['content']\n",
    "        summary = df_summaries.loc[index]['content']\n",
    "        \n",
    "        # The stop sequence '{summary}\\n\\n\\n' is important for FLAN-T5. Other models may have their own preferred stop sequence.\n",
    "        prompt += f\"\"\"You are an expert in news summarization.\n",
    "News:\n",
    "\n",
    "{dialogue}\n",
    "\n",
    "Summary:\n",
    "{summary}\n",
    "\n",
    "\n",
    "\"\"\"\n",
    "    \n",
    "    dialogue = df_news.loc[example_index_to_summarize]['content']\n",
    "    \n",
    "    prompt += f\"\"\"\n",
    "News:\n",
    "\n",
    "{dialogue}\n",
    "\n",
    "Make a 3 sentences long Summary:\"\"\"\n",
    "        \n",
    "    return prompt"
   ]
  },
  {
   "cell_type": "code",
   "execution_count": 68,
   "metadata": {},
   "outputs": [
    {
     "name": "stdout",
     "output_type": "stream",
     "text": [
      "You are an expert in news summarization.\n",
      "News:\n",
      "\n",
      "BMW to recall faulty diesel cars\n",
      "\n",
      "BMW is to recall all cars equipped with a faulty diesel fuel-injection pump supplied by parts maker Robert Bosch.\n",
      "\n",
      "The faulty part does not represent a safety risk and the recall only affects pumps made in December and January. BMW said that it was too early to say how many cars were affected or how much the recall would cost. The German company is to extend a planned production break at one of its plants due to the faulty Bosch part. The Dingolfing site will now be closed all next week instead of for just two days. The additional three-day stoppage will mean a production loss of up to 3,600 vehicles, BMW said, adding that it was confident it could make up the numbers later.\n",
      "\n",
      "Bosch has stopped production of the part but expects to restart by 2 February. The faulty component does not represent a safety risk but causes the motor to stall after a significant amount of mileage. When asked if BMW would be seeking compensation from Bosch, the carmaker's chief executive Helmut Panke said: \"we will first solve the problem before talking about who will pay\". Audi and Mercedes Benz were also supplied with the defective diesel fuel-injection pumps but neither of them have to recall any vehicles. A spokesman for DaimlerChrysler, parent company of Mercedes Benz, said it will however have to halt some production. It is to close the Mercedes factory in Sindelfingen on Monday and Tuesday. Audi said it had been hit by production bottlenecks, due to a shortage of unaffected Bosch parts.\n",
      "\n",
      "\n",
      "Summary:\n",
      "BMW is to recall all cars equipped with a faulty diesel fuel-injection pump supplied by parts maker Robert Bosch.The German company is to extend a planned production break at one of its plants due to the faulty Bosch part.The faulty part does not represent a safety risk and the recall only affects pumps made in December and January.Audi said it had been hit by production bottlenecks, due to a shortage of unaffected Bosch parts.A spokesman for DaimlerChrysler, parent company of Mercedes Benz, said it will however have to halt some production.Audi and Mercedes Benz were also supplied with the defective diesel fuel-injection pumps but neither of them have to recall any vehicles.\n",
      "\n",
      "\n",
      "You are an expert in news summarization.\n",
      "News:\n",
      "\n",
      "US gives foreign firms extra time\n",
      "\n",
      "Foreign firms have been given an extra year to meet tough new corporate governance regulations imposed by the US stock market watchdog.\n",
      "\n",
      "The Securities and Exchange Commission has extended the deadline to get in line with the rules until 15 July 2006. Many foreign firms had protested that the SEC was imposing an unfair burden. The new rules are the result of the Sarbanes-Oxley Act, part of the US clean-up after corporate scandals such as Enron and Worldcom. Section 404 of the Sox Act, as the legislation is nicknamed, calls for all firms to certify that their financial reporting is in line with US rules. Big US firms already have to meet the requirements, but smaller ones and foreign-based firms which list their shares on US stock markets originally had until the middle of this year.\n",
      "\n",
      "Over the past few months, delegations of European and other business leaders have been heading to the SEC's Washington DC headquarters to protest. They say the burden is too expensive and the timescale too short and some, particularly the UK's CBI, warned that companies would choose to let their US listings drop rather than get in line with section 404. The latest delegation from the CBI met SEC officials on Wednesday, just before the decision to relax the deadline was announced. \"I think this signifies a change of heart at the SEC,\" CBI director-general Sir Digby Jones told the BBC's Today programme. \"They have been listening to us and to many overseas companies, who have reminded America what globalisation really means: that they can't make these rules in isolation.\" The SEC said it had taken into consideration the fact that foreign companies were already working to meet more onerous financial reporting rules in their home countries. The European Union, in particular, was imposing new international financial reporting standards in 2005, it noted. \"I don't underestimate the effort (compliance) will require... but this extension will provide additional time for those issuers to take a good hard look at their internal controls,\" said Donald Nicolaisen, the SEC's chief accountant.\n",
      "\n",
      "\n",
      "Summary:\n",
      "Many foreign firms had protested that the SEC was imposing an unfair burden.The SEC said it had taken into consideration the fact that foreign companies were already working to meet more onerous financial reporting rules in their home countries.Section 404 of the Sox Act, as the legislation is nicknamed, calls for all firms to certify that their financial reporting is in line with US rules.Foreign firms have been given an extra year to meet tough new corporate governance regulations imposed by the US stock market watchdog.Big US firms already have to meet the requirements, but smaller ones and foreign-based firms which list their shares on US stock markets originally had until the middle of this year.The European Union, in particular, was imposing new international financial reporting standards in 2005, it noted.\n",
      "\n",
      "\n",
      "\n",
      "News:\n",
      "\n",
      "Australia rates at four year high\n",
      "\n",
      "Australia is raising its benchmark interest rate to its highest level in four years despite signs of a slowdown in the country's economy.\n",
      "\n",
      "The Reserve Bank of Australia lifted interest rates 0.25% to 5.5%, their first upwards move in more than a year. However, shortly after the Bank made its decision, new figures showed a fall in economic growth in the last quarter. The Bank said it had acted to curb inflation but the move was criticised by some analysts.\n",
      "\n",
      "The rate hike was the first since December 2003 and had been well-flagged in advance. However, opposition parties and some analysts said the move was ill-timed given data showing the Australian economy grew just 0.1% between October and December and 1.5% on an annual basis.\n",
      "\n",
      "The figures, representing a decline from the 0.2% growth in GDP seen between July and September, were below market expectations. Consumer spending remains strong, however, and the Bank is concerned about growing inflationary pressures. \"Over recent months it has become increasingly clear that remaining spare capacity in the labour and goods markets is becoming rather limited,\" said Ian Macfarlane, Governor of the Reserve Bank.\n",
      "\n",
      "At 2.6%, inflation remains within the Bank's 2-3% target range. However, exports declined in the second half of 2004, fuelling a rise in the country's current account deficit - the difference in the value of imports compared to exports - to a record Australian dollar 29.4bn. The Australian government said the economy remained strong with unemployment at a near 30 year low. \"The economy has been strong and it is properly moderating but it doesn't look to me like it's slowing in any unreasonable way,\" said Treasurer Peter Costello. Stock markets had factored in the likelihood of a rate rise but analysts still expressed concern about the strength of the economy. \"That 1.5% annual growth rate is the lowest we have seen since the post-election slump we saw back in 2000-1,\" said Michael Blythe, chief economist at the Commonwealth Bank of Australia. \"This suggests the economy really did slow very sharply in the second half of 2004.\"\n",
      "\n",
      "\n",
      "Make a 3 sentences long Summary:\n"
     ]
    }
   ],
   "source": [
    "example_indices_full = [80,35]\n",
    "example_index_to_summarize = 100\n",
    "\n",
    "one_shot_prompt = make_prompt(example_indices_full, example_index_to_summarize)\n",
    "\n",
    "print(one_shot_prompt)"
   ]
  },
  {
   "cell_type": "code",
   "execution_count": 69,
   "metadata": {},
   "outputs": [
    {
     "name": "stdout",
     "output_type": "stream",
     "text": [
      "------------------------------------------------------------------------------------------------------\n",
      "BASELINE HUMAN SUMMARY:\n",
      "Swiss drugmaker Novartis has announced 5.65bn euros ($7.4bn; £3.9bn) of purchases to make its Sandoz unit the world's biggest generic drug producer.Novartis said that it would be able to make cost savings of about $200m a year following the acquisitions.Novartis said that it would merge a number of departments, adding that there may be job cuts.The deal will see Novartis' Sandoz business overtake Israel's Teva Pharmaceuticals as the world's biggest maker of generics.Novartis, which last month forecast record sales for 2005, said it had bought all of Germany's Hexal.Novartis' shares rose 1% to 57.85 Swiss francs in early trading.\n",
      "\n",
      "------------------------------------------------------------------------------------------------------\n",
      "MODEL GENERATION - FEW SHOT:\n",
      "Swiss drugmaker Novartis has announced $5.65bn ($7.4bn; £3.9bn) of purchases to make its Sandoz unit the world's biggest generic drug producer.\n"
     ]
    }
   ],
   "source": [
    "example_indices_full = [40,50,300]\n",
    "example_index_to_summarize = 200\n",
    "\n",
    "one_shot_prompt = make_prompt(example_indices_full, example_index_to_summarize)\n",
    "summary = df_summaries.loc[example_index_to_summarize]['content']\n",
    "\n",
    "inputs = tokenizer(one_shot_prompt, return_tensors='pt')\n",
    "output = tokenizer.decode(\n",
    "    model.generate(\n",
    "        inputs[\"input_ids\"],\n",
    "        max_new_tokens=50,\n",
    "    )[0], \n",
    "    skip_special_tokens=True\n",
    ")\n",
    "\n",
    "print(dash_line)\n",
    "print(f'BASELINE HUMAN SUMMARY:\\n{summary}\\n')\n",
    "print(dash_line)\n",
    "print(f'MODEL GENERATION - FEW SHOT:\\n{output}')"
   ]
  },
  {
   "cell_type": "code",
   "execution_count": 70,
   "metadata": {},
   "outputs": [
    {
     "name": "stdout",
     "output_type": "stream",
     "text": [
      "BLEU score: 3.63\n"
     ]
    }
   ],
   "source": [
    "#Clasificación de precisión BLEU\n",
    "referencias_tokenizadas = [word_tokenize(sent) for sent in summary.split('. ') if sent]\n",
    "\n",
    "# Tokenizando el resumen generado\n",
    "hipotesis_tokenizada = word_tokenize(output)\n",
    "\n",
    "# Asegurándonos de que las referencias estén en una lista de listas como espera corpus_bleu\n",
    "score = corpus_bleu([referencias_tokenizadas], [hipotesis_tokenizada], smoothing_function=SmoothingFunction().method1)\n",
    "print(f\"BLEU score: {score*100:.2f}\")"
   ]
  },
  {
   "cell_type": "code",
   "execution_count": null,
   "metadata": {},
   "outputs": [],
   "source": []
  }
 ],
 "metadata": {
  "kernelspec": {
   "display_name": "Python 3",
   "language": "python",
   "name": "python3"
  },
  "language_info": {
   "codemirror_mode": {
    "name": "ipython",
    "version": 3
   },
   "file_extension": ".py",
   "mimetype": "text/x-python",
   "name": "python",
   "nbconvert_exporter": "python",
   "pygments_lexer": "ipython3",
   "version": "3.11.4"
  }
 },
 "nbformat": 4,
 "nbformat_minor": 2
}
