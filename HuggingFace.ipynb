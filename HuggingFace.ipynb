{
 "cells": [
  {
   "cell_type": "code",
   "execution_count": 34,
   "metadata": {},
   "outputs": [
    {
     "name": "stderr",
     "output_type": "stream",
     "text": [
      "[nltk_data] Downloading package punkt to\n",
      "[nltk_data]     C:\\Users\\javie\\AppData\\Roaming\\nltk_data...\n",
      "[nltk_data]   Package punkt is already up-to-date!\n"
     ]
    }
   ],
   "source": [
    "import os\n",
    "from transformers import pipeline\n",
    "from rouge import Rouge\n",
    "import nltk\n",
    "nltk.download('punkt')\n",
    "from nltk.translate.bleu_score import corpus_bleu\n",
    "from nltk.translate.bleu_score import SmoothingFunction\n",
    "from nltk.tokenize import word_tokenize"
   ]
  },
  {
   "cell_type": "markdown",
   "metadata": {},
   "source": [
    "### Prueba con un único artículo"
   ]
  },
  {
   "cell_type": "code",
   "execution_count": 6,
   "metadata": {},
   "outputs": [
    {
     "name": "stdout",
     "output_type": "stream",
     "text": [
      "WARNING:tensorflow:From c:\\Users\\javie\\anaconda3\\envs\\ML2\\Lib\\site-packages\\tf_keras\\src\\losses.py:2976: The name tf.losses.sparse_softmax_cross_entropy is deprecated. Please use tf.compat.v1.losses.sparse_softmax_cross_entropy instead.\n",
      "\n"
     ]
    }
   ],
   "source": [
    "#Modelo de summarization de HuggingFace facebook/bart-large-cnn\n",
    "#URL descripcion: https://huggingface.co/facebook/bart-large-cnn\n",
    "summarizer = pipeline(\"summarization\", model=\"facebook/bart-large-cnn\")"
   ]
  },
  {
   "cell_type": "code",
   "execution_count": 8,
   "metadata": {},
   "outputs": [
    {
     "name": "stdout",
     "output_type": "stream",
     "text": [
      "Ad sales boost Time Warner profit\n",
      "\n",
      "Quarterly profits at US media giant TimeWarner jumped 76% to $1.13bn (£600m) for the three months to December, from $639m year-earlier.\n",
      "\n",
      "The firm, which is now one of the biggest investors in Google, benefited from sales of high-speed internet connections and higher advert sales. TimeWarner said fourth quarter sales rose 2% to $11.1bn from $10.9bn. Its profits were buoyed by one-off gains which offset a profit dip at Warner Bros, and less users for AOL.\n",
      "\n",
      "Time Warner said on Friday that it now owns 8% of search-engine Google. But its own internet business, AOL, had has mixed fortunes. It lost 464,000 subscribers in the fourth quarter profits were lower than in the preceding three quarters. However, the company said AOL's underlying profit before exceptional items rose 8% on the back of stronger internet advertising revenues. It hopes to increase subscribers by offering the online service free to TimeWarner internet customers and will try to sign up AOL's existing customers for high-speed broadband. TimeWarner also has to restate 2000 and 2003 results following a probe by the US Securities Exchange Commission (SEC), which is close to concluding.\n",
      "\n",
      "Time Warner's fourth quarter profits were slightly better than analysts' expectations. But its film division saw profits slump 27% to $284m, helped by box-office flops Alexander and Catwoman, a sharp contrast to year-earlier, when the third and final film in the Lord of the Rings trilogy boosted results. For the full-year, TimeWarner posted a profit of $3.36bn, up 27% from its 2003 performance, while revenues grew 6.4% to $42.09bn. \"Our financial performance was strong, meeting or exceeding all of our full-year objectives and greatly enhancing our flexibility,\" chairman and chief executive Richard Parsons said. For 2005, TimeWarner is projecting operating earnings growth of around 5%, and also expects higher revenue and wider profit margins.\n",
      "\n",
      "TimeWarner is to restate its accounts as part of efforts to resolve an inquiry into AOL by US market regulators. It has already offered to pay $300m to settle charges, in a deal that is under review by the SEC. The company said it was unable to estimate the amount it needed to set aside for legal reserves, which it previously set at $500m. It intends to adjust the way it accounts for a deal with German music publisher Bertelsmann's purchase of a stake in AOL Europe, which it had reported as advertising revenue. It will now book the sale of its stake in AOL Europe as a loss on the value of that stake.\n",
      "\n"
     ]
    }
   ],
   "source": [
    "with open('data/BBC News Summary/News Articles/business/001.txt', 'r') as file:\n",
    "    contenido = file.read()\n",
    "\n",
    "# Mostrar el contenido del archivo\n",
    "print(contenido)"
   ]
  },
  {
   "cell_type": "code",
   "execution_count": 24,
   "metadata": {},
   "outputs": [
    {
     "name": "stdout",
     "output_type": "stream",
     "text": [
      "[{'summary_text': \"Time Warner profits up 76% to $1.13bn for the three months to December. Firm now owns 8% of search-engine Google. But its own internet business, AOL, had has mixed fortunes. It lost 464,000 subscribers in the fourth quarter. For the full-year, TimeWarner posted a profit of $3.36bn, up 27% from its 2003 performance. For 2005, Time Warner is projecting operating earnings growth of around 5% and also expects higher revenue and wider profit margins. The firm is to restate its accounts as part of efforts to resolve an inquiry into AOL by US market regulators. It has already offered to pay $300m to settle charges, in a deal that is under review by the SEC. The company said it was unable to estimate the amount it needed to set aside for legal reserves, which it previously set at $500m. It intends to adjust the way it accounts for a deal with German music publisher Bertelsmann's purchase of a stake in AOL Europe.\"}]\n"
     ]
    }
   ],
   "source": [
    "\n",
    "res = summarizer(contenido, max_length=500, min_length=200, do_sample=False)\n",
    "print(res)"
   ]
  },
  {
   "cell_type": "code",
   "execution_count": 25,
   "metadata": {},
   "outputs": [],
   "source": [
    "resumen_generado = res[0]['summary_text']"
   ]
  },
  {
   "cell_type": "code",
   "execution_count": 26,
   "metadata": {},
   "outputs": [
    {
     "name": "stdout",
     "output_type": "stream",
     "text": [
      "TimeWarner said fourth quarter sales rose 2% to $11.1bn from $10.9bn.For the full-year, TimeWarner posted a profit of $3.36bn, up 27% from its 2003 performance, while revenues grew 6.4% to $42.09bn.Quarterly profits at US media giant TimeWarner jumped 76% to $1.13bn (£600m) for the three months to December, from $639m year-earlier.However, the company said AOL's underlying profit before exceptional items rose 8% on the back of stronger internet advertising revenues.Its profits were buoyed by one-off gains which offset a profit dip at Warner Bros, and less users for AOL.For 2005, TimeWarner is projecting operating earnings growth of around 5%, and also expects higher revenue and wider profit margins.It lost 464,000 subscribers in the fourth quarter profits were lower than in the preceding three quarters.Time Warner's fourth quarter profits were slightly better than analysts' expectations.\n"
     ]
    }
   ],
   "source": [
    "with open('data/BBC News Summary/Summaries/business/001.txt', 'r') as file:\n",
    "    resumen_referencia = file.read()\n",
    "print(resumen_referencia)"
   ]
  },
  {
   "cell_type": "code",
   "execution_count": 27,
   "metadata": {},
   "outputs": [
    {
     "name": "stdout",
     "output_type": "stream",
     "text": [
      "[{'rouge-1': {'r': 0.5092592592592593, 'p': 0.4661016949152542, 'f': 0.4867256587266035}, 'rouge-2': {'r': 0.31654676258992803, 'p': 0.2732919254658385, 'f': 0.2933333283602223}, 'rouge-l': {'r': 0.49074074074074076, 'p': 0.4491525423728814, 'f': 0.46902654368235575}}]\n"
     ]
    }
   ],
   "source": [
    "#Clasifiación de precisión Rouge\n",
    "rouge = Rouge()\n",
    "scores = rouge.get_scores(resumen_generado, resumen_referencia)\n",
    "print(scores)"
   ]
  },
  {
   "cell_type": "code",
   "execution_count": 33,
   "metadata": {},
   "outputs": [
    {
     "name": "stdout",
     "output_type": "stream",
     "text": [
      "BLEU score: 26.65\n"
     ]
    }
   ],
   "source": [
    "#Clasificación de precisión BLEU\n",
    "referencias_tokenizadas = [word_tokenize(sent) for sent in resumen_referencia.split('. ') if sent]\n",
    "\n",
    "# Tokenizando el resumen generado\n",
    "hipotesis_tokenizada = word_tokenize(resumen_generado)\n",
    "\n",
    "# Asegurándonos de que las referencias estén en una lista de listas como espera corpus_bleu\n",
    "score = corpus_bleu([referencias_tokenizadas], [hipotesis_tokenizada], smoothing_function=SmoothingFunction().method1)\n",
    "print(f\"BLEU score: {score*100:.2f}\")"
   ]
  },
  {
   "cell_type": "markdown",
   "metadata": {},
   "source": [
    "### Generalización a más de un artículo"
   ]
  },
  {
   "cell_type": "code",
   "execution_count": 43,
   "metadata": {},
   "outputs": [],
   "source": [
    "carpeta_noticias = \"data/BBC News Summary/News Articles/sport\"\n",
    "carpeta_resumenes = \"data/BBC News Summary/Summaries/sport\"\n",
    "\n",
    "archivos_noticias = sorted(os.listdir(carpeta_noticias))\n",
    "archivos_resumenes = sorted(os.listdir(carpeta_resumenes))"
   ]
  },
  {
   "cell_type": "code",
   "execution_count": null,
   "metadata": {},
   "outputs": [],
   "source": [
    "def leer_archivo(ruta):\n",
    "    try:\n",
    "        with open(ruta, 'r', encoding='utf-8') as file:\n",
    "            return file.read()\n",
    "    except FileNotFoundError:\n",
    "        print(\"El archivo no fue encontrado\")\n",
    "    except Exception as e:\n",
    "        print(f\"Ocurrió un error al leer el archivo: {e}\")\n",
    "    \n",
    "scores=[]\n",
    "for archivo_noticia, archivo_resumen in zip(archivos_noticias, archivos_resumenes):\n",
    "    ruta_noticia = os.path.join(carpeta_noticias, archivo_noticia)\n",
    "    ruta_resumen = os.path.join(carpeta_resumenes, archivo_resumen)\n",
    "    \n",
    "    noticia = leer_archivo(ruta_noticia)\n",
    "    resumen_referencia = leer_archivo(ruta_resumen)\n",
    "\n",
    "    res = summarizer(noticia, max_length=500, min_length=200, do_sample=False)\n",
    "\n",
    "    resumen_generado = res[0]['summary_text']\n",
    "\n",
    "    #Clasificación de precisión BLEU\n",
    "    referencias_tokenizadas = [word_tokenize(sent) for sent in resumen_referencia.split('. ') if sent]\n",
    "\n",
    "    # Tokenizando el resumen generado\n",
    "    hipotesis_tokenizada = word_tokenize(resumen_generado)\n",
    "\n",
    "    # Asegurándonos de que las referencias estén en una lista de listas como espera corpus_bleu\n",
    "    score = corpus_bleu([referencias_tokenizadas], [hipotesis_tokenizada], smoothing_function=SmoothingFunction().method1)\n",
    "    print(f\"BLEU score: {score*100:.2f}\")\n",
    "    scores.append(score)    "
   ]
  },
  {
   "cell_type": "code",
   "execution_count": null,
   "metadata": {},
   "outputs": [],
   "source": [
    "\n"
   ]
  },
  {
   "cell_type": "code",
   "execution_count": null,
   "metadata": {},
   "outputs": [],
   "source": []
  }
 ],
 "metadata": {
  "kernelspec": {
   "display_name": "Python 3",
   "language": "python",
   "name": "python3"
  },
  "language_info": {
   "codemirror_mode": {
    "name": "ipython",
    "version": 3
   },
   "file_extension": ".py",
   "mimetype": "text/x-python",
   "name": "python",
   "nbconvert_exporter": "python",
   "pygments_lexer": "ipython3",
   "version": "3.11.4"
  }
 },
 "nbformat": 4,
 "nbformat_minor": 2
}
